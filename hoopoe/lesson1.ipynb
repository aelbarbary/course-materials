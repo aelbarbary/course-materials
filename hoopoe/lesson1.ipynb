{
 "cells": [
  {
   "cell_type": "markdown",
   "metadata": {
    "id": "EYb69h63Qcvd"
   },
   "source": [
    "# Session 1: Introduction to Data Analysis\n",
    "\n",
    "**Assalamu Alaikum, Kids!** Welcome to your first data analysis session! 🌟\n",
    "\n",
    "Today, we'll learn how to use Python to analyze data and discover amazing things about the Quran. But first, let's understand: **What is data analysis?**\n",
    "\n",
    "`Data analysis is like solving a puzzle. We collect information (data), organize it, and use it to find patterns or answers to questions.` For example:\n",
    "- Tracking how many verses you memorize each week.\n",
    "- Analyzing Salah times to find the best time for Dhikr.\n",
    "\n",
    "Let’s dive in and explore how data can help us understand the Quran better!"
   ]
  },
  {
   "cell_type": "markdown",
   "metadata": {},
   "source": [
    "## 🏰 Story Time: The Dreamer Who Wanted to Understand the World 🌍\n",
    "Once upon a time, in a bustling city full of life and wonder 🏙️✨, there lived a young girl named Sarah. She was an inquisitive soul who loved observing the world around her. 🌟 Whether it was the way birds flew in perfect formation 🐦, how people hurried to work 🚶‍♀️🚶‍♂️, or the endless patterns of stars in the night sky 🌌, Sarah always asked, **“Why does it happen this way?”**\n",
    "\n",
    "One day, while helping her father in his small market shop, Sarah noticed something peculiar. **“Father,” she said, “why do more customers come in the morning than in the afternoon? And why do some items sell faster than others?”** 🤔\n",
    "\n",
    "Her father smiled and patted her head. “That’s a great question, Sarah. If only there was a way to know what our customers need most.”\n",
    "\n",
    "Inspired, Sarah spent the next few days jotting down observations 📓. `She counted how many people came at different times`, `which products they bought`, and `how long they stayed`. Soon, **her notebook was full of numbers, tables, and little notes.** 📊🖋️\n",
    "\n",
    "**“Now I have the data,”** she thought, **“but what does it all mean?”** She took her notes to her grandmother, who was known as the wisest person in their family. 🧓✨\n",
    "\n",
    "Grandmother looked at Sarah’s notebook and said, **“My dear, you’ve just taken your first step into the world of data analysis!** Do you know what that means?” Sarah shook her head.\n",
    "\n",
    "**“It’s like being a detective,”** Grandmother explained. 🕵️‍♀️ `“You gather clues, look for patterns, and uncover the story hidden in the numbers`. **Data analysis helps us solve problems, make better decisions, and even understand the world around us.”**\n",
    "\n",
    "Sarah’s eyes lit up. “So, if I analyze this data, I can help Father know when the market is busiest and what customers want most?” Grandmother nodded.\n",
    "\n",
    "Excited, Sarah spent hours organizing her notes into neat columns and rows. She created simple graphs to see patterns more clearly 📈 and began making observations. **“People love buying fresh bread in the morning 🥖,” she realized. “And in the afternoons, they mostly buy fruits and drinks 🍎🥤.”**\n",
    "\n",
    "When she shared her findings with her father, he was amazed. “Sarah, this is incredible! Now we can prepare better and make our customers happier.” 🎉\n",
    "\n",
    "From that day on, Sarah became the family’s data detective, uncovering new insights and helping not only her father’s shop but also her school and community. 🌟\n",
    "\n",
    "And so, Sarah learned that **data analysis is not just about numbers** — **it’s about understanding the world and making a difference. 💡**"
   ]
  },
  {
   "cell_type": "markdown",
   "metadata": {},
   "source": [
    "## Real-Life Examples of Data Analysis\n",
    "\n",
    "<img src=\"1 Data Analysis.png\" alt=\"Drawing\" style=\"width: 600px;\"/>"
   ]
  },
  {
   "cell_type": "markdown",
   "metadata": {
    "id": "ewYA94uMbPV0"
   },
   "source": [
    "Here are some real-life examples where data analysis is useful:\n",
    "1. `Improving Public Health:`<br>\n",
    "> Data analysis is used to track diseases and create vaccines. For example, during the COVID-19 pandemic, researchers analyzed millions of health records to predict infection trends and develop effective vaccines.\n",
    "\n",
    "2. `Understanding the Quran Better:`<br>\n",
    "> Scholars use data analysis to study patterns in the Quran. For example, analyzing the frequency of words like \"mercy\" or \"patience\" can help us understand the the Quran's teachings and its emphasis on kindness and perseverance.\n",
    "\n",
    "3. `Helping Businesses Succeed:`<br>\n",
    "> Companies like Amazon analyze customer shopping habits to recommend products. Have you ever noticed how after searching for a specific item, you start seeing ads for related items? That's data analysis at work!\n",
    "\n",
    "4. `Sports and Performance Analysis:` <br>\n",
    "> Coaches and teams analyze player performance data to improve strategies and training. Did you know that soccer teams even use data to decide which player to pass the ball to?\n",
    "\n",
    "5. `Highlighting Islamic Achievements:` <br>\n",
    "> Data analysis can uncover how Islamic scholars contributed to math, science, and medicine. For instance, analyzing the works of Al-Khwarizmi reveals the roots of modern algebra, a word derived from his book Al-Jabr wa'l-Muqabala.\n",
    "\n",
    "6. `Environmental Protection:` <br>\n",
    "> Analysts monitor data about pollution, forest coverage, and water resources to protect the environment. For example, tracking deforestation trends can help governments create policies to save rainforests.\n",
    "\n",
    "***Isn't that amazing?*** <br>\n",
    "Let’s see how we can use data analysis to explore the Quran!"
   ]
  },
  {
   "cell_type": "code",
   "execution_count": 3,
   "metadata": {},
   "outputs": [],
   "source": [
    "# Importing Necessary Libraries\n",
    "import pandas as pd\n",
    "import numpy as np\n",
    "import matplotlib.pyplot as plt"
   ]
  },
  {
   "cell_type": "code",
   "execution_count": 4,
   "metadata": {
    "id": "cElfIfelcbkA",
    "scrolled": true
   },
   "outputs": [
    {
     "name": "stdout",
     "output_type": "stream",
     "text": [
      "Here is our dataset about some Quranic surahs:\n",
      "        Surah  Verses\n",
      "0   Al-Fatiha       7\n",
      "1  Al-Baqarah     286\n",
      "2    Al-Imran     200\n",
      "3     An-Nisa     176\n",
      "4  Al-Ma'idah     120\n",
      "5    Al-An'am     165\n",
      "6    Al-A'raf     206\n",
      "7    Al-Anfal      75\n",
      "8   At-Tawbah     129\n",
      "9       Yunus     109\n"
     ]
    }
   ],
   "source": [
    "# Sample Dataset: Surah Lengths in the Quran\n",
    "data = {\n",
    "    \"Surah\": [\"Al-Fatiha\", \"Al-Baqarah\", \"Al-Imran\", \"An-Nisa\", \"Al-Ma'idah\", \"Al-An'am\", \"Al-A'raf\", \"Al-Anfal\", \"At-Tawbah\", \"Yunus\"],\n",
    "    \"Verses\": [7, 286, 200, 176, 120, 165, 206, 75, 129, 109]\n",
    "        }\n",
    "\n",
    "# Creating a DataFrame\n",
    "quran_df = pd.DataFrame(data)\n",
    "\n",
    "# Displaying the DataFrame\n",
    "print(\"Here is our dataset about some Quranic surahs:\")\n",
    "print(quran_df)"
   ]
  },
  {
   "cell_type": "markdown",
   "metadata": {},
   "source": [
    "## 💻 Activity: Adding New Data\n",
    "\n",
    "Let’s add a new surah to our dataset! Can you think of a surah and its number of verses? Let’s input it together."
   ]
  },
  {
   "cell_type": "code",
   "execution_count": 5,
   "metadata": {
    "id": "ahpkzJsPccdn",
    "scrolled": true
   },
   "outputs": [
    {
     "name": "stdout",
     "output_type": "stream",
     "text": [
      "Now, let's add a new surah to our dataset! What surah would you like to add? Let's input it together.\n",
      "Adding Surah: Surah Example with 10 verses.\n",
      "\n",
      "Updated dataset:\n",
      "            Surah  Verses\n",
      "0       Al-Fatiha       7\n",
      "1      Al-Baqarah     286\n",
      "2        Al-Imran     200\n",
      "3         An-Nisa     176\n",
      "4      Al-Ma'idah     120\n",
      "5        Al-An'am     165\n",
      "6        Al-A'raf     206\n",
      "7        Al-Anfal      75\n",
      "8       At-Tawbah     129\n",
      "9           Yunus     109\n",
      "10  Surah Example      10\n"
     ]
    }
   ],
   "source": [
    "print(\"Now, let's add a new surah to our dataset! What surah would you like to add? Let's input it together.\")\n",
    "\n",
    "surah_name = \"Surah Example\"  # --> insert here the name of the Surah\n",
    "verses_count = 10  # --> insert here the numbet of verses in the Surah\n",
    "\n",
    "print(f\"Adding Surah: {surah_name} with {verses_count} verses.\")\n",
    "\n",
    "# Adding the new data\n",
    "new_data = pd.DataFrame({\"Surah\": [surah_name], \"Verses\": [verses_count]})\n",
    "quran_df = pd.concat([quran_df, new_data], ignore_index=True)\n",
    "\n",
    "print(\"\\nUpdated dataset:\")\n",
    "print(quran_df)"
   ]
  },
  {
   "cell_type": "markdown",
   "metadata": {},
   "source": [
    "### Finding the Longest and Shortest Surahs\n",
    "\n",
    "Let’s find out which surah has the most verses and which has the fewest.#### Finding the Longest and Shortest Surahs"
   ]
  },
  {
   "cell_type": "code",
   "execution_count": 7,
   "metadata": {
    "id": "8WLIDCjBcuxV",
    "scrolled": true
   },
   "outputs": [
    {
     "name": "stdout",
     "output_type": "stream",
     "text": [
      "\n",
      "The longest surah in our dataset is:\n",
      "        Surah  Verses\n",
      "1  Al-Baqarah     286\n",
      "\n",
      "The shortest surah in our dataset is:\n",
      "       Surah  Verses\n",
      "0  Al-Fatiha       7\n"
     ]
    }
   ],
   "source": [
    "longest_surah = quran_df[quran_df[\"Verses\"] == quran_df[\"Verses\"].max()]\n",
    "shortest_surah = quran_df[quran_df[\"Verses\"] == quran_df[\"Verses\"].min()]\n",
    "\n",
    "print(\"The longest surah in our dataset is:\")\n",
    "print(longest_surah)\n",
    "\n",
    "print(\"\\nThe shortest surah in our dataset is:\")\n",
    "print(shortest_surah)"
   ]
  },
  {
   "cell_type": "markdown",
   "metadata": {},
   "source": [
    "### Calculating the Average Number of Verses\n",
    "\n",
    "Let’s calculate the average number of verses in the surahs."
   ]
  },
  {
   "cell_type": "code",
   "execution_count": 8,
   "metadata": {
    "id": "gN7D_y1IcumL",
    "scrolled": true
   },
   "outputs": [
    {
     "name": "stdout",
     "output_type": "stream",
     "text": [
      "\n",
      "The average number of verses in the surahs is: 134.82\n"
     ]
    }
   ],
   "source": [
    "average_verses = quran_df[\"Verses\"].mean()\n",
    "print(f\"The average number of verses in the surahs is: {average_verses:.2f}\")"
   ]
  },
  {
   "cell_type": "markdown",
   "metadata": {},
   "source": [
    "## 📊 Visualizing the Data\n",
    "\n",
    "Let’s create a bar chart to visualize the number of verses in each surah."
   ]
  },
  {
   "cell_type": "code",
   "execution_count": 11,
   "metadata": {
    "id": "KbYXBD-ycubl",
    "scrolled": false
   },
   "outputs": [
    {
     "data": {
      "image/png": "[encoded data removed]",
      "text/plain": [
       "<Figure size 1000x600 with 1 Axes>"
      ]
     },
     "metadata": {},
     "output_type": "display_data"
    }
   ],
   "source": [
    "plt.figure(figsize=(10, 6))\n",
    "plt.bar(quran_df[\"Surah\"], quran_df[\"Verses\"], color=\"skyblue\")\n",
    "plt.title(\"Number of Verses in Quranic Surahs\")\n",
    "plt.xlabel(\"Surah\")\n",
    "plt.ylabel(\"Number of Verses\")\n",
    "plt.xticks(rotation=45)\n",
    "plt.tight_layout()\n",
    "plt.show()"
   ]
  },
  {
   "cell_type": "markdown",
   "metadata": {},
   "source": [
    "# Conclusion about Data Analysis Process\n",
    "let's reflect on what we have gone through and explain the **`Data Analysis Process`**\n",
    "<img src=\"1 data analysis steps.png\" alt=\"Drawing\" style=\"width: 700px;\"/>"
   ]
  },
  {
   "cell_type": "markdown",
   "metadata": {
    "id": "xLpCw4wkct3q"
   },
   "source": [
    "# 📚 Reflection Activity\n",
    "\n",
    "- **Why are some surahs longer than others?** Allah has organized the Quran in a way full of wisdom. Can you think of why some surahs are longer than others?\n",
    "- **How can data analysis help us appreciate the Quran more?** Let’s explore together some statistics and facts about the Quran on this website: [Quran Analysis](https://qurananalysis.com/analysis/basic-statistics.php)."
   ]
  },
  {
   "cell_type": "markdown",
   "metadata": {
    "id": "dIAu4JwkctvL"
   },
   "source": [
    "# 📝 Quiz\n",
    "Let's take a short quiz to see what you've learned so far!\n",
    "\n",
    "1. What is data analysis?<br>\n",
    "    `a) Collecting random numbers`<br>\n",
    "    `b) The process of finding patterns and insights in data`<br>\n",
    "    `c) Writing stories about data`<br>\n",
    "    `d) Ignoring data`<br><br>\n",
    "\n",
    "2. Can you name one real-life example of data analysis?<br>\n",
    "   `a) Predicting weather patterns`<br>\n",
    "   `b) Counting stars in the sky`<br>\n",
    "    `c) Observing animals without taking notes`<br>\n",
    "    `d) Forgetting about data`<br><br>\n",
    "\n",
    "3. Which surah has the most verses in our dataset?<br>\n",
    "    `a) Surah Al-Fatiha`<br>\n",
    "    `b) Surah Al-Baqarah`<br>\n",
    "    `c) Surah Al-Kahf`<br>\n",
    "    `d) Surah Al-Nas`<br><br>\n",
    "\n",
    "4. What is the average number of verses in the surahs?<br>\n",
    "    `a) 151`<br>\n",
    "    `b) 123`<br>\n",
    "    `c) 150`<br>\n",
    "    `d) 134`<br><br>\n",
    "\n",
    "5. Why do you think visualizing data is important?<br>\n",
    "    `a) To make data more colorful`<br>\n",
    "    `b) To understand data patterns quickly and clearly`<br>\n",
    "    `c) To make data look complicated`<br>\n",
    "    `d) To confuse others with graphs`<br>"
   ]
  },
  {
   "cell_type": "markdown",
   "metadata": {
    "id": "GCuJeL7Vcta3"
   },
   "source": [
    "# 🏡 Homework\n",
    "\n",
    "1. **Research and Add Data**: Find 5 more surahs and their number of verses to add to our dataset.\n",
    "2. **Create a Bar Chart**: Use Python to visualize the new dataset with the added surahs.\n",
    "3. **Find Statistics**: Calculate the mean, max, and min for the number of verses in the new dataset.\n",
    "4. **Write a Paragraph**: Write a short paragraph with an example of how data analysis can help us understand the Quran better."
   ]
  },
  {
   "cell_type": "markdown",
   "metadata": {
    "id": "Y58zCsXFdXjv"
   },
   "source": [
    "## YOU Can Use Data Analysis!\n",
    "\n",
    "Did you know? Data analysis can help us:\n",
    "- Track your school grades and find ways to improve.\n",
    "- Analyze your sports performance to get better.\n",
    "- Help scientists make amazing discoveries, like finding new planets or medicines!\n",
    "\n",
    "With data, you can uncover hidden patterns and make great decisions. Maybe one day, you'll use data analysis to solve big problems for humanity, **Insha'Allah!** 🌟"
   ]
  }
 ],
 "metadata": {
  "colab": {
   "provenance": []
  },
  "kernelspec": {
   "display_name": "Python 3 (ipykernel)",
   "language": "python",
   "name": "python3"
  },
  "language_info": {
   "codemirror_mode": {
    "name": "ipython",
    "version": 3
   },
   "file_extension": ".py",
   "mimetype": "text/x-python",
   "name": "python",
   "nbconvert_exporter": "python",
   "pygments_lexer": "ipython3",
   "version": "3.11.4"
  }
 },
 "nbformat": 4,
 "nbformat_minor": 1
}
