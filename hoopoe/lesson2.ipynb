{
 "cells": [
  {
   "cell_type": "markdown",
   "id": "aeba3649",
   "metadata": {},
   "source": [
    "# Session 2: Organizing and Cleaning Data\n",
    "\n",
    "**Assalamu Alaikum, Kids! Welcome back to our data analysis journey! 🌟** <br>\n",
    "Today, we’ll learn how to organize and clean messy data to make it useful. In this session, we’ll focus on Quranic datasets and how to prepare them for analysis. Let’s dive in!"
   ]
  },
  {
   "cell_type": "markdown",
   "id": "39182d33",
   "metadata": {},
   "source": [
    "## 🏰 Story Time: The Busy Librarian and the Jumbled Books 📚✨\n",
    "Once upon a time, in a bustling city 🌆, there was a grand library filled with **thousands of books** 📖. The librarian, Fatima, was known for her love of books ❤️ and her dedication to helping visitors find what they needed.\n",
    "\n",
    "One day, a strong wind 💨 blew through the library, **scattering books everywhere!** 📚✨ `Pages were mixed up`, `covers were misplaced`, and `shelves were in complete disarray`. Visitors were confused 😕 and couldn’t find the books they wanted. Fatima knew she had to act quickly. 🕒\n",
    "\n",
    "She gathered her assistants and said, **“We need to organize everything. But first, we must prepare!** Let’s gather all the scattered books, group them by subject, and check for missing or torn pages. Only then can we put them back in order.” 💡\n",
    "\n",
    "The team got to work: 🛠️\n",
    "\n",
    "- They collected all the books and placed them in one area. 📦\n",
    "- They grouped the books by categories: history, science, literature, and more. 🏷️📚\n",
    "- They fixed torn pages, removed duplicates, and filled in missing information using their records. 📝✨\n",
    "\n",
    "Once everything was prepared, the books were shelved neatly again. 🗂️ Visitors returned to find a well-organized library where every book was easy to find. 😊📖\n",
    "\n",
    "> Fatima smiled and said, “Preparing data is just like this. Before we can use it, we need to clean, organize, and ensure it’s ready for use. Only then can we uncover the knowledge it holds.” 🌟"
   ]
  },
  {
   "cell_type": "markdown",
   "id": "b9f9fa7b",
   "metadata": {},
   "source": [
    "### Why is Data Cleaning Important?\n",
    "\n",
    "**Before we start, let’s discuss:**\n",
    "\n",
    "`Why do you think organizing data is important?`\n",
    "- Imagine if a doctor missed important data in a patient's report! Clean data helps us make accurate decisions.\n",
    "\n",
    "`Can you think of examples where we might encounter messy or incomplete data?`\n",
    "- For example, if we’re analyzing Quranic verses and some verses are missing or duplicated, our analysis would be incorrect."
   ]
  },
  {
   "cell_type": "markdown",
   "id": "13a6f377",
   "metadata": {},
   "source": [
    "## Real-Life Examples of Data Cleaning and Preparation:"
   ]
  },
  {
   "cell_type": "markdown",
   "id": "0e73b6e3",
   "metadata": {},
   "source": [
    "<img src=\"2 Data Preparation.png\" alt=\"Drawing\" style=\"width: 700px;\"/>"
   ]
  },
  {
   "cell_type": "markdown",
   "id": "dbd3210c",
   "metadata": {},
   "source": [
    "Here are some real-life examples where data Cleaning and Preparation are useful:\n",
    "\n",
    "1. `COVID-19 Tracking:` <br>\n",
    "> Inaccurate data caused delays in responses. Cleaning data ensured that governments made timely decisions to protect people, like lockdowns and vaccine rollouts.\n",
    "2. `Space Exploration:` <br>\n",
    "> NASA cleans data from space telescopes to remove errors caused by cosmic radiation. This ensures that scientists get accurate readings of stars and planets.\n",
    "3. `Business Insights:` <br>\n",
    "> Companies like Amazon clean their sales data to avoid duplicates. If someone creates two accounts with the same email, this could affect their customer analysis.\n",
    "4. `Education Records:` <br>\n",
    "> Schools clean student data to ensure that records are up to date, avoiding mistakes in grades or attendance."
   ]
  },
  {
   "cell_type": "code",
   "execution_count": 2,
   "id": "2716c013",
   "metadata": {},
   "outputs": [],
   "source": [
    "# Importing Necessary Libraries\n",
    "import pandas as pd\n",
    "import numpy as np\n",
    "import matplotlib.pyplot as plt"
   ]
  },
  {
   "cell_type": "markdown",
   "id": "47ac4008",
   "metadata": {},
   "source": [
    "## 💻 Activity 1: Islamic Countries Dataset"
   ]
  },
  {
   "cell_type": "code",
   "execution_count": 16,
   "id": "69b53b82",
   "metadata": {
    "scrolled": false
   },
   "outputs": [
    {
     "name": "stdout",
     "output_type": "stream",
     "text": [
      "\\nHere is a sample dataset about Islamic countries:\n",
      "         Country  Population    Area\n",
      "0          Egypt      104.12  1002.0\n",
      "1   Saudi Arabia       35.01  2149.0\n",
      "2      Indonesia      273.52     NaN\n",
      "3       Pakistan      220.89   881.0\n",
      "4         Turkey         NaN   783.6\n",
      "5          Egypt      104.12  1002.0\n",
      "6       Malaysia       32.37   330.8\n",
      "7        Morocco       36.91   446.6\n",
      "8        Nigeria      206.14   923.8\n",
      "9     Bangladesh      166.30   147.6\n",
      "10      Pakistan      220.89   881.0\n",
      "11          Iran       83.99  1648.2\n"
     ]
    }
   ],
   "source": [
    "# Sample Dataset: Islamic Countries\n",
    "print(\"\\\\nHere is a sample dataset about Islamic countries:\")\n",
    "\n",
    "data = {\n",
    "    \"Country\": [\"Egypt\", \"Saudi Arabia\", \"Indonesia\", \"Pakistan\", \"Turkey\", \"Egypt\", \"Malaysia\", \"Morocco\", \"Nigeria\", \"Bangladesh\", \"Pakistan\", \"Iran\"],\n",
    "    \"Population\": [104.12, 35.01, 273.52, 220.89, None, 104.12, 32.37, 36.91, 206.14, 166.30, 220.89, 83.99],\n",
    "    \"Area\": [1002, 2149, None, 881, 783.6, 1002, 330.8, 446.6, 923.8, 147.6, 881, 1648.2]\n",
    "}\n",
    "\n",
    "islamic_countries_df = pd.DataFrame(data)\n",
    "print(islamic_countries_df)"
   ]
  },
  {
   "cell_type": "markdown",
   "id": "463f6c7a",
   "metadata": {},
   "source": [
    "> **`Check this dataset.. what problems can you Identify in it??`**"
   ]
  },
  {
   "cell_type": "markdown",
   "id": "26a7d194",
   "metadata": {},
   "source": [
    "#### Identifying Missing Data\n",
    "Let’s check if there’s any missing data in our dataset."
   ]
  },
  {
   "cell_type": "code",
   "execution_count": 17,
   "id": "c6fb8b1a",
   "metadata": {
    "scrolled": true
   },
   "outputs": [
    {
     "name": "stdout",
     "output_type": "stream",
     "text": [
      "    Country  Population   Area\n",
      "0     False       False  False\n",
      "1     False       False  False\n",
      "2     False       False   True\n",
      "3     False       False  False\n",
      "4     False        True  False\n",
      "5     False       False  False\n",
      "6     False       False  False\n",
      "7     False       False  False\n",
      "8     False       False  False\n",
      "9     False       False  False\n",
      "10    False       False  False\n",
      "11    False       False  False\n"
     ]
    }
   ],
   "source": [
    "print(islamic_countries_df.isnull())"
   ]
  },
  {
   "cell_type": "markdown",
   "id": "08f8b414",
   "metadata": {},
   "source": [
    "#### Fixing Missing Data\n",
    "For missing values, we will research and fill in real-world estimates."
   ]
  },
  {
   "cell_type": "code",
   "execution_count": 18,
   "id": "c6281568",
   "metadata": {
    "scrolled": false
   },
   "outputs": [
    {
     "name": "stdout",
     "output_type": "stream",
     "text": [
      "\n",
      "Updated dataset with missing values filled:\n",
      "         Country  Population    Area\n",
      "0          Egypt      104.12  1002.0\n",
      "1   Saudi Arabia       35.01  2149.0\n",
      "2      Indonesia      273.52  1913.0\n",
      "3       Pakistan      220.89   881.0\n",
      "4         Turkey       85.04   783.6\n",
      "5          Egypt      104.12  1002.0\n",
      "6       Malaysia       32.37   330.8\n",
      "7        Morocco       36.91   446.6\n",
      "8        Nigeria      206.14   923.8\n",
      "9     Bangladesh      166.30   147.6\n",
      "10      Pakistan      220.89   881.0\n",
      "11          Iran       83.99  1648.2\n"
     ]
    }
   ],
   "source": [
    "real_population = 85.04  # Turkey's population in millions (approximate)\n",
    "real_area = 1913  # Indonesia's area in km^2 thousands (approximate)\n",
    "\n",
    "islamic_countries_df.loc[islamic_countries_df[\"Country\"] == \"Turkey\", \"Population\"] = real_population\n",
    "islamic_countries_df.loc[islamic_countries_df[\"Country\"] == \"Indonesia\", \"Area\"] = real_area\n",
    "\n",
    "print(\"\\nUpdated dataset with missing values filled:\")\n",
    "print(islamic_countries_df)"
   ]
  },
  {
   "cell_type": "markdown",
   "id": "d3c86d88",
   "metadata": {},
   "source": [
    "### Interactive Activity: Let’s Fix More Missing Data!\n",
    "Now, It's your turn. <br> \n",
    "Below are two more countries with missing data. Your task is to **fill in** the missing values using real-world estimates. You can use Google or any reliable source to find the correct values."
   ]
  },
  {
   "cell_type": "code",
   "execution_count": 19,
   "id": "e1fa858f",
   "metadata": {},
   "outputs": [
    {
     "name": "stdout",
     "output_type": "stream",
     "text": [
      "\n",
      "Here are two more countries with missing data. Can you fill in the missing values?\n",
      "       Country Population   Area\n",
      "0  Afghanistan       None  652.9\n",
      "1         Iraq       None    NaN\n",
      "\n",
      "Updated dataset after filling in missing values:\n",
      "       Country Population   Area\n",
      "0  Afghanistan       None  652.9\n",
      "1         Iraq       None    NaN\n"
     ]
    }
   ],
   "source": [
    "# Adding more countries with missing data\n",
    "new_data = {\n",
    "    \"Country\": [\"Afghanistan\", \"Iraq\"],\n",
    "    \"Population\": [None, None],\n",
    "    \"Area\": [652.9, None]\n",
    "}\n",
    "\n",
    "new_countries_df = pd.DataFrame(new_data)\n",
    "print(\"\\nHere are two more countries with missing data. Can you fill in the missing values?\")\n",
    "print(new_countries_df)\n",
    "\n",
    "# Your task: Fill in the missing values for Afghanistan and Iraq\n",
    "# Example:\n",
    "# new_countries_df.loc[new_countries_df[\"Country\"] == \"Afghanistan\", \"Population\"] = 38.93\n",
    "# new_countries_df.loc[new_countries_df[\"Country\"] == \"Iraq\", \"Area\"] = 438.3\n",
    "\n",
    "# After filling in the values, print the updated dataset\n",
    "print(\"\\nUpdated dataset after filling in missing values:\")\n",
    "print(new_countries_df)"
   ]
  },
  {
   "cell_type": "markdown",
   "id": "783f10ff",
   "metadata": {},
   "source": [
    "## 💻 Data Cleaning Activity 2: Removing Duplicates\n",
    "Now, let’s handle duplicate data."
   ]
  },
  {
   "cell_type": "code",
   "execution_count": 21,
   "id": "acb502fe",
   "metadata": {},
   "outputs": [
    {
     "name": "stdout",
     "output_type": "stream",
     "text": [
      "Original dataset with duplicate entries:\n",
      "         Country  Population    Area\n",
      "0          Egypt      104.12  1002.0\n",
      "1   Saudi Arabia       35.01  2149.0\n",
      "2      Indonesia      273.52  1913.0\n",
      "3       Pakistan      220.89   881.0\n",
      "4         Turkey       85.04   783.6\n",
      "5          Egypt      104.12  1002.0\n",
      "6       Malaysia       32.37   330.8\n",
      "7        Morocco       36.91   446.6\n",
      "8        Nigeria      206.14   923.8\n",
      "9     Bangladesh      166.30   147.6\n",
      "10      Pakistan      220.89   881.0\n",
      "11          Iran       83.99  1648.2\n"
     ]
    }
   ],
   "source": [
    "# Adding duplicate entries for demonstration\n",
    "\n",
    "print(\"Original dataset with duplicate entries:\")\n",
    "print(islamic_countries_df)"
   ]
  },
  {
   "cell_type": "code",
   "execution_count": 23,
   "id": "ec4b1e16",
   "metadata": {
    "scrolled": true
   },
   "outputs": [
    {
     "name": "stdout",
     "output_type": "stream",
     "text": [
      "Dataset after removing duplicates:\n",
      "         Country  Population    Area\n",
      "0          Egypt      104.12  1002.0\n",
      "1   Saudi Arabia       35.01  2149.0\n",
      "2      Indonesia      273.52  1913.0\n",
      "3       Pakistan      220.89   881.0\n",
      "4         Turkey       85.04   783.6\n",
      "6       Malaysia       32.37   330.8\n",
      "7        Morocco       36.91   446.6\n",
      "8        Nigeria      206.14   923.8\n",
      "9     Bangladesh      166.30   147.6\n",
      "11          Iran       83.99  1648.2\n"
     ]
    }
   ],
   "source": [
    "# Removing Duplicate Rows\n",
    "islamic_countries_df.drop_duplicates(inplace=True)\n",
    "\n",
    "print(\"Dataset after removing duplicates:\")\n",
    "print(islamic_countries_df)"
   ]
  },
  {
   "cell_type": "markdown",
   "id": "1271b0c3",
   "metadata": {},
   "source": [
    "### Renaming Columns\n",
    "Let’s make the column names easier to work with."
   ]
  },
  {
   "cell_type": "code",
   "execution_count": 13,
   "id": "8776f6a6",
   "metadata": {
    "scrolled": true
   },
   "outputs": [
    {
     "name": "stdout",
     "output_type": "stream",
     "text": [
      "        Country  Population_Millions  Area_km2\n",
      "0  Saudi Arabia                35.01    2149.0\n",
      "1     Indonesia               273.52       NaN\n",
      "2      Pakistan               220.89     881.0\n",
      "3        Turkey                  NaN     783.6\n",
      "4         Egypt               104.12    1002.0\n",
      "5      Malaysia                32.37     330.8\n",
      "6       Morocco                36.91     446.6\n",
      "7       Nigeria               206.14     923.8\n",
      "8    Bangladesh               166.30     147.6\n",
      "9          Iran                83.99    1648.2\n"
     ]
    }
   ],
   "source": [
    "islamic_countries_df.rename(columns={\n",
    "    \"Population\": \"Population_Millions\",\n",
    "    \"Area\": \"Area_km2\"\n",
    "}, inplace=True)\n",
    "\n",
    "print(islamic_countries_df)"
   ]
  },
  {
   "cell_type": "markdown",
   "id": "ad5bda89",
   "metadata": {},
   "source": [
    "## 💻 Fun Activity: Find the Largest Country"
   ]
  },
  {
   "cell_type": "code",
   "execution_count": 14,
   "id": "08910dcc",
   "metadata": {
    "scrolled": true
   },
   "outputs": [
    {
     "name": "stdout",
     "output_type": "stream",
     "text": [
      "The country with the largest area is: Saudi Arabia!\n"
     ]
    }
   ],
   "source": [
    "largest_country = islamic_countries_df.loc[islamic_countries_df[\"Area_km2\"].idxmax(), \"Country\"]\n",
    "print(f\"The country with the largest area is: {largest_country}!\")"
   ]
  },
  {
   "cell_type": "markdown",
   "id": "043ced34",
   "metadata": {},
   "source": [
    "## 📊 Visualization"
   ]
  },
  {
   "cell_type": "code",
   "execution_count": 15,
   "id": "980f2d3b",
   "metadata": {
    "scrolled": false
   },
   "outputs": [
    {
     "name": "stdout",
     "output_type": "stream",
     "text": [
      "\n",
      "Let's visualize the data!\n"
     ]
    },
    {
     "data": {
      "image/png": "[encoded data removed]",
      "text/plain": [
       "<Figure size 640x480 with 1 Axes>"
      ]
     },
     "metadata": {},
     "output_type": "display_data"
    },
    {
     "data": {
      "image/png": "[encoded data removed]",
      "text/plain": [
       "<Figure size 640x480 with 1 Axes>"
      ]
     },
     "metadata": {},
     "output_type": "display_data"
    }
   ],
   "source": [
    "print(\"\\nLet's visualize the data!\")\n",
    "islamic_countries_df.plot(x=\"Country\", y=\"Population_Millions\", kind=\"bar\", title=\"Population of Islamic Countries\", legend=False)\n",
    "plt.xlabel(\"Country\")\n",
    "plt.ylabel(\"Population (Millions)\")\n",
    "plt.show()\n",
    "\n",
    "islamic_countries_df.plot(x=\"Country\", y=\"Area_km2\", kind=\"bar\", color=\"orange\", title=\"Area of Islamic Countries\", legend=False)\n",
    "plt.xlabel(\"Country\")\n",
    "plt.ylabel(\"Area (km^2)\")\n",
    "plt.show()"
   ]
  },
  {
   "cell_type": "markdown",
   "id": "73e3e712",
   "metadata": {},
   "source": [
    "# 📚 Reflection Activity\n",
    "\n",
    "- Did you notice how missing data affected our dataset? \n",
    "> Imagine if a doctor missed important data in a patient's report! \n",
    "<br> <br>\n",
    "- How did filling in the missing values improve our dataset?  \n",
    "> It makes our analysis more accurate.\n",
    "<br> <br>\n",
    "- What would happen if we didn’t clean our data before analysis?  \n",
    "> The results would be incorrect or misleading.\n",
    "<br> <br>\n",
    "- Why do you think removing duplicate entries is important?  \n",
    "> It helps in avoiding wrong conclusions.\n",
    "<br> <br>\n",
    "- Can you think of other ways data can be messy?  \n",
    "> Like wrong spelling, incorrect formatting, or outdated values."
   ]
  },
  {
   "cell_type": "markdown",
   "id": "fbdcc043",
   "metadata": {},
   "source": [
    "# 📝 Quiz\n",
    "Quiz Time! Let's have some fun together!\n",
    "\n",
    "\n",
    "1. Why is it important to clean and organize data? <br>\n",
    "        `A. To make data look pretty\"` <br>\n",
    "        `B. To ensure accurate analysis\"` <br>\n",
    "        `C. To make data harder to read\"` <br> <br>\n",
    "\n",
    "2. Which country in our dataset had missing population data? <br>\n",
    "        `A. Egypt` <br>\n",
    "        `B. Turkey` <br>\n",
    "        `C. Pakistan` <br> <br>\n",
    "\n",
    "3. What method did we use to fill missing values? <br>\n",
    "        `A. Guessing` <br>\n",
    "        `B. Research and replace` <br>\n",
    "        `C. Ignoring them` <br> <br>\n",
    "\n",
    "4. What did we do to handle duplicate data? <br>\n",
    "        `A. We added more duplicates` <br>\n",
    "        `B. We ignored duplicates` <br>\n",
    "        `C. We removed duplicate rows` <br> <br>\n",
    "\n",
    "5. Why should we rename columns? <br>\n",
    "        `A. To make them easier to understand` <br>\n",
    "        `B. To make them longer` <br>\n",
    "        `C. To confuse others`"
   ]
  },
  {
   "cell_type": "markdown",
   "id": "1bc48984",
   "metadata": {},
   "source": [
    "#  🏡 Homework\n",
    "\n",
    "1. **Research and find** the population and area of two more Islamic countries to add to the dataset.\n",
    "2. **Create a Python script** to calculate the total population of all the countries in the dataset.\n",
    "3. **Find or create a dataset** with some duplicate values and write a Python script to remove those duplicates.\n",
    "4. **Revise the cleaned dataset from Session 1** to ensure there are no missing values. Check for any incorrect or duplicate data."
   ]
  }
 ],
 "metadata": {
  "kernelspec": {
   "display_name": "Python 3 (ipykernel)",
   "language": "python",
   "name": "python3"
  },
  "language_info": {
   "codemirror_mode": {
    "name": "ipython",
    "version": 3
   },
   "file_extension": ".py",
   "mimetype": "text/x-python",
   "name": "python",
   "nbconvert_exporter": "python",
   "pygments_lexer": "ipython3",
   "version": "3.11.4"
  }
 },
 "nbformat": 4,
 "nbformat_minor": 5
}
