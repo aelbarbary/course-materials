{
 "cells": [
  {
   "cell_type": "markdown",
   "id": "96fd270c",
   "metadata": {},
   "source": [
    "# Session 3: Exploring Data - Discovering Stories Within Numbers\n",
    "**Assalamu Alaikum, Amazing Data Explorers! 🌟** <br>\n",
    "Welcome to our third session. Today, we’re diving into Data Exploration — discovering hidden stories in numbers! Let’s ask questions, find patterns, and uncover insights. Ready? Bismillah! Let’s go!"
   ]
  },
  {
   "cell_type": "markdown",
   "id": "11b3fee0",
   "metadata": {},
   "source": [
    "## 🏰 Story Time: The Curious Kid and the Hidden Treasure\n",
    "Ali, a curious and adventurous boy, loved exploring his grandfather's old attic. 🏚️ It was a magical place filled with ancient books, dusty artifacts, and hidden secrets. One sunny afternoon, as beams of light danced across the room 🌞, Ali’s hands brushed against a crinkly old parchment. To his surprise, it was an **ancient-looking treasure map.** 🗺️ But this wasn’t an ordinary map — instead of locations, it was filled with **numbers, symbols, and cryptic clues.** 🔢✨\n",
    "\n",
    "His heart raced with excitement ❤️, and he dashed downstairs, holding the map high. “Grandfather, look! A treasure map!” he exclaimed, his eyes sparkling with curiosity. 👀✨\n",
    "\n",
    "Grandfather adjusted his glasses, his wise face lighting up with a smile. 😊 “Ah, this map!” he said, holding it carefully. “It belonged to a famous explorer many years ago. But beware, Ali,” he warned with a twinkle in his eye. ✨ **“The treasure is hidden well, and only someone who understands the secrets in the numbers can find it.”**\n",
    "\n",
    "Ali furrowed his brows in confusion. 🤔 “Secrets in the numbers? How can numbers lead to treasure?” he asked, puzzled but intrigued.\n",
    "\n",
    "Grandfather chuckled softly. **“Numbers are powerful, my boy. They tell stories, reveal patterns, and uncover truths.** Just as explorers uncover hidden lands 🗺️, those who explore data can uncover hidden treasures of knowledge.”\n",
    "\n",
    "Ali’s determination grew. **“I’ll solve this mystery, Grandfather! I’ll find the treasure!”** 💪 He spent days learning to decode the map — `asking the right questions`, `finding patterns in the numbers`, and `solving complex puzzles` 🧩. It wasn’t easy, but with every step, he felt closer to uncovering the truth.\n",
    "\n",
    "Finally, after days of exploration, Ali reached the treasure’s location. 🏴‍☠️ And there it was — a chest filled with gold coins, precious gems, and a letter. 💰💎 The letter read:\n",
    "\n",
    "> “To the explorer who uncovered the hidden truths — remember, the real treasure lies in the journey of discovery and the knowledge you’ve gained.”\n",
    "\n",
    "Ali smiled, realizing the greatest treasure was not just the chest but the skills and curiosity he had developed along the way. 🌟\n",
    "\n",
    "And so, Ali returned home, not just with treasure but with a newfound passion for exploration and learning. 🧭✨"
   ]
  },
  {
   "cell_type": "markdown",
   "id": "b91eba8b",
   "metadata": {},
   "source": [
    "<img src=\"3 data exploration.png\" alt=\"Drawing\" style=\"width: 800px;\"/>"
   ]
  },
  {
   "cell_type": "markdown",
   "id": "5c1bbf7c",
   "metadata": {},
   "source": [
    "## 🔎 Why Data Exploration Matters\n",
    "\n",
    "Just like Ali’s treasure map, real-world data holds valuable insights. Let’s see how exploring data is crucial in different fields:\n",
    "\n",
    "`🕌 Islamic Studies`\n",
    "- Scholars explore data in the Quran and Hadith to find patterns and deeper meanings.\n",
    "- For example, counting how many times certain words appear can reveal themes and lessons.\n",
    "\n",
    "`💼 Business`\n",
    "- Companies explore customer data to improve products and services.\n",
    "- For example, analyzing sales data helps businesses understand which products are popular.\n",
    "\n",
    "`🏫 Education`\n",
    "- Schools use data to track student progress and identify areas for improvement.\n",
    "- For example, exploring attendance and grades helps teachers support students better.\n",
    "\n",
    "`🏥 Medical Field`\n",
    "- Doctors explore patient data to find patterns in diseases and treatments.\n",
    "- For example, analyzing symptoms and recovery rates helps develop better medical care.\n",
    "\n",
    "`🌎 Environment`\n",
    "- Scientists explore climate data to understand changes in the environment.\n",
    "- For example, studying temperature trends helps predict weather patterns and protect communities.\n",
    "\n",
    "`🤔 Discussion Questions:`\n",
    "- Can you think of other areas where data exploration is important?\n",
    "- How can exploring data help us make better decisions in daily life?"
   ]
  },
  {
   "cell_type": "markdown",
   "id": "0c542330",
   "metadata": {},
   "source": [
    "## 💻 Activity 1: Exploring Our Dataset\n",
    "\n",
    "Today, we’ll explore a dataset about Islamic Scientists and Their Discoveries. Let’s see what stories we can uncover!"
   ]
  },
  {
   "cell_type": "code",
   "execution_count": 2,
   "id": "9bcfde29",
   "metadata": {},
   "outputs": [
    {
     "name": "stdout",
     "output_type": "stream",
     "text": [
      "        Scientist        Field                Discovery  Year\n",
      "0      Al-Zahrawi     Medicine           Surgical Tools  1000\n",
      "1        Ibn Sina   Philosophy        Canon of Medicine   980\n",
      "2    Al-Khwarizmi  Mathematics                  Algebra   830\n",
      "3      Al-Battani    Astronomy      Astronomical Tables   877\n",
      "4  Ibn Al-Haytham       Optics           Camera Obscura  1021\n",
      "5       Al-Farabi        Music         Musical Notation   872\n",
      "6       Ibn Rushd   Philosophy  Aristotelian Philosophy  1126\n",
      "7         Al-Razi    Chemistry             Distillation   865\n",
      "8     Ibn Khaldun    Sociology      Historical Analysis  1332\n",
      "9    Ibn Al-Nafis     Medicine    Pulmonary Circulation  1242\n"
     ]
    }
   ],
   "source": [
    "import pandas as pd\n",
    "\n",
    "# Dataset\n",
    "data = {\n",
    "    \"Scientist\": [\"Al-Zahrawi\", \"Ibn Sina\", \"Al-Khwarizmi\", \"Al-Battani\", \"Ibn Al-Haytham\", \"Al-Farabi\", \"Ibn Rushd\", \"Al-Razi\", \"Ibn Khaldun\", \"Ibn Al-Nafis\"],\n",
    "    \"Field\": [\"Medicine\", \"Philosophy\", \"Mathematics\", \"Astronomy\", \"Optics\", \"Music\", \"Philosophy\", \"Chemistry\", \"Sociology\", \"Medicine\"],\n",
    "    \"Discovery\": [\"Surgical Tools\", \"Canon of Medicine\", \"Algebra\", \"Astronomical Tables\", \"Camera Obscura\", \"Musical Notation\", \"Aristotelian Philosophy\", \"Distillation\", \"Historical Analysis\", \"Pulmonary Circulation\"],\n",
    "    \"Year\": [1000, 980, 830, 877, 1021, 872, 1126, 865, 1332, 1242]\n",
    "}\n",
    "\n",
    "# Load the dataset\n",
    "df = pd.DataFrame(data)\n",
    "print(df)"
   ]
  },
  {
   "cell_type": "markdown",
   "id": "77647ae0",
   "metadata": {},
   "source": [
    "### Let’s answer some questions:\n",
    "\n",
    "    1- How many scientists are in our dataset?\n",
    "\n",
    "    2- Which field has the most contributions?\n",
    "\n",
    "    3- What’s the oldest discovery?\n",
    "\n",
    "    4- Which discovery is the most recent?"
   ]
  },
  {
   "cell_type": "code",
   "execution_count": 7,
   "id": "666ef0df",
   "metadata": {},
   "outputs": [
    {
     "name": "stdout",
     "output_type": "stream",
     "text": [
      "Scientists: 10\n",
      "\n",
      "Top Field: Medicine\n",
      "\n",
      "Oldest Discovery: Algebra\n",
      "\n",
      "Most Recent Discovery: Historical Analysis\n"
     ]
    }
   ],
   "source": [
    "# Count scientists\n",
    "print(f\"Scientists: {len(df)}\")\n",
    "\n",
    "# Most contributions\n",
    "print(f\"\\nTop Field: {df['Field'].mode()[0]}\")\n",
    "\n",
    "# Oldest discovery\n",
    "oldest = df.loc[df['Year'].idxmin(), 'Discovery']\n",
    "print(f\"\\nOldest Discovery: {oldest}\")\n",
    "\n",
    "# Most recent discovery\n",
    "recent = df.loc[df['Year'].idxmax(), 'Discovery']\n",
    "print(f\"\\nMost Recent Discovery: {recent}\")"
   ]
  },
  {
   "cell_type": "markdown",
   "id": "754035fb",
   "metadata": {},
   "source": [
    "### 🤹 Quick Group Challenge: Explore More!\n",
    "\n",
    "now your turn, come up with more questions to explore using the dataset. Here are some ideas to get you started:\n",
    "\n",
    "Which scientist made multiple contributions?\n",
    "\n",
    "Are there any fields that are still relevant today?\n",
    "\n",
    "How can we connect these discoveries to modern technology?\n",
    "\n",
    "Share your questions and findings with the class!\n"
   ]
  },
  {
   "cell_type": "markdown",
   "id": "cc7e495e",
   "metadata": {},
   "source": [
    "## 🧮 Activity 2: Adding New Insights\n",
    "\n",
    "Let’s calculate how many years have passed since each discovery."
   ]
  },
  {
   "cell_type": "code",
   "execution_count": 8,
   "id": "846e4a8f",
   "metadata": {},
   "outputs": [
    {
     "name": "stdout",
     "output_type": "stream",
     "text": [
      "        Scientist        Field                Discovery  Year  Years Since\n",
      "0      Al-Zahrawi     Medicine           Surgical Tools  1000         1024\n",
      "1        Ibn Sina   Philosophy        Canon of Medicine   980         1044\n",
      "2    Al-Khwarizmi  Mathematics                  Algebra   830         1194\n",
      "3      Al-Battani    Astronomy      Astronomical Tables   877         1147\n",
      "4  Ibn Al-Haytham       Optics           Camera Obscura  1021         1003\n",
      "5       Al-Farabi        Music         Musical Notation   872         1152\n",
      "6       Ibn Rushd   Philosophy  Aristotelian Philosophy  1126          898\n",
      "7         Al-Razi    Chemistry             Distillation   865         1159\n",
      "8     Ibn Khaldun    Sociology      Historical Analysis  1332          692\n",
      "9    Ibn Al-Nafis     Medicine    Pulmonary Circulation  1242          782\n"
     ]
    }
   ],
   "source": [
    "# Years since discovery\n",
    "df[\"Years Since\"] = 2024 - df[\"Year\"]\n",
    "print(df)"
   ]
  },
  {
   "cell_type": "markdown",
   "id": "b673d4b2",
   "metadata": {},
   "source": [
    "### Discussion:\n",
    "\n",
    "Why are some discoveries still relevant today?\n",
    "\n",
    "How do these discoveries impact our daily lives?\n",
    "\n",
    "Which discovery do you find most impressive? Why?"
   ]
  },
  {
   "cell_type": "markdown",
   "id": "8449ee83",
   "metadata": {},
   "source": [
    "## 🎲 Activity 3: Matching Game\n",
    "\n",
    "We’ll play a Matching Game! I’ll give you the name of a discovery, and you’ll match it to the scientist and field. Let’s see who can make the most matches correctly!\n",
    "\n",
    "**Example:**\n",
    "\n",
    "    Discovery: Algebra\n",
    "\n",
    "    Scientist: Al-Khwarizmi\n",
    "\n",
    "    Field: Mathematics"
   ]
  },
  {
   "cell_type": "markdown",
   "id": "ad2bcf6b",
   "metadata": {},
   "source": [
    "## 📊 Visualization: Bar Chart vs. Histogram\n",
    "\n",
    "Let’s create a bar chart to visualize how many years have passed since each discovery."
   ]
  },
  {
   "cell_type": "code",
   "execution_count": 9,
   "id": "0d804b79",
   "metadata": {},
   "outputs": [
    {
     "data": {
      "image/png": "[encoded data removed]",
      "text/plain": [
       "<Figure size 640x480 with 1 Axes>"
      ]
     },
     "metadata": {},
     "output_type": "display_data"
    }
   ],
   "source": [
    "import matplotlib.pyplot as plt\n",
    "\n",
    "# Bar Chart\n",
    "df.plot(x=\"Scientist\", y=\"Years Since\", kind=\"bar\", title=\"Years Since Discovery\", legend=False)\n",
    "plt.show()"
   ]
  },
  {
   "cell_type": "markdown",
   "id": "daf0be32",
   "metadata": {},
   "source": [
    "Now, let’s create a histogram to see the distribution of discoveries over time."
   ]
  },
  {
   "cell_type": "code",
   "execution_count": 10,
   "id": "689624f5",
   "metadata": {},
   "outputs": [
    {
     "data": {
      "image/png": "[encoded data removed]",
      "text/plain": [
       "<Figure size 640x480 with 1 Axes>"
      ]
     },
     "metadata": {},
     "output_type": "display_data"
    }
   ],
   "source": [
    "# Histogram\n",
    "plt.hist(df['Year'], bins=5, edgecolor='black')\n",
    "plt.title(\"Distribution of Discoveries by Year\")\n",
    "plt.xlabel(\"Year\")\n",
    "plt.ylabel(\"Frequency\")\n",
    "plt.show()"
   ]
  },
  {
   "cell_type": "markdown",
   "id": "cc19bdba",
   "metadata": {},
   "source": [
    "### Discussion:\n",
    "\n",
    "- What’s the difference between a **bar chart** and a **histogram**?\n",
    "\n",
    "- When should we use each type of chart?"
   ]
  },
  {
   "cell_type": "markdown",
   "id": "08e93264",
   "metadata": {},
   "source": [
    "# 📚 Reflection\n",
    "\n",
    "`Today, we learned that:`\n",
    "\n",
    ">Data exploration helps uncover hidden stories in numbers.\n",
    "\n",
    ">Asking the right questions leads to meaningful insights.\n",
    "\n",
    ">Visualizing data makes it easier to understand patterns and trends.\n",
    "\n",
    "`Think About It:`\n",
    "\n",
    ">Why is it important to explore data before making decisions?\n",
    "\n",
    ">How can exploring data help us in our daily lives?\n",
    "\n",
    ">What new questions would you ask if you had more data?"
   ]
  },
  {
   "cell_type": "markdown",
   "id": "0adf4749",
   "metadata": {},
   "source": [
    "# 📝 Quiz Time! (Multiple Choice Questions)\n",
    "\n",
    "1. Which scientist is known for Algebra?<br>\n",
    "    `A) Ibn Sina`<br>\n",
    "    `B) Al-Zahrawi`<br>\n",
    "    `C) Al-Khwarizmi`<br>\n",
    "    `D) Al-Razi`<br><br>\n",
    "\n",
    "2. What is the oldest discovery in our dataset?<br>\n",
    "    `A) Surgical Tools`<br>\n",
    "    `B) Algebra`<br>\n",
    "    `C) Pulmonary Circulation`<br>\n",
    "    `D) Canon of Medicine`<br><br>\n",
    "\n",
    "3. Why is data exploration important?<br>\n",
    "    `A) It helps us visualize data`<br>\n",
    "    `B) It uncovers hidden patterns`<br>\n",
    "    `C) It makes data more colorful`<br>\n",
    "    `D) It’s not important`<br><br>\n",
    "\n",
    "4. Which field has the most contributions in our dataset?<br>\n",
    "    `A) Medicine`<br>\n",
    "    `B) Mathematics`<br>\n",
    "    `C) Philosophy`<br>\n",
    "    `D) Astronomy`<br><br>\n",
    "\n",
    "5. What type of chart shows the distribution of data over time?<br>\n",
    "    `A) Bar Chart`<br>\n",
    "    `B) Pie Chart`<br>\n",
    "    `C) Line Chart`<br>\n",
    "    `D) Histogram`"
   ]
  },
  {
   "cell_type": "markdown",
   "id": "5270b0c9",
   "metadata": {},
   "source": [
    "# 🏡 Homework\n",
    " Explore a New Dataset!\n",
    "\n",
    "1. **Find/create a dataset** on a topic you love (e.g., animals, sports, history).\n",
    "\n",
    "2. **Ask three questions** you’d like to answer using the data.\n",
    "\n",
    "3. **Create a bar chart and a histogram** to visualize your findings.\n",
    "\n",
    "4. **Share your insights** with your classmates!"
   ]
  }
 ],
 "metadata": {
  "kernelspec": {
   "display_name": "Python 3 (ipykernel)",
   "language": "python",
   "name": "python3"
  },
  "language_info": {
   "codemirror_mode": {
    "name": "ipython",
    "version": 3
   },
   "file_extension": ".py",
   "mimetype": "text/x-python",
   "name": "python",
   "nbconvert_exporter": "python",
   "pygments_lexer": "ipython3",
   "version": "3.11.4"
  }
 },
 "nbformat": 4,
 "nbformat_minor": 5
}
